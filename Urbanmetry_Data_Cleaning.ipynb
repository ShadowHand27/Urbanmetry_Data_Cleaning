{
 "cells": [
  {
   "cell_type": "markdown",
   "id": "76f9d5f5-5ddc-4069-abf1-0179cc6e6db2",
   "metadata": {},
   "source": [
    "# Urbanmetry Data Cleaning Challenge"
   ]
  },
  {
   "cell_type": "code",
   "execution_count": 185,
   "id": "41392c87-74e8-47a2-8137-ab928f9b179c",
   "metadata": {},
   "outputs": [],
   "source": [
    "import pandas as pd\n",
    "import numpy as np"
   ]
  },
  {
   "cell_type": "markdown",
   "id": "c2c8031c-0840-4167-8ed0-753e5b92d2a0",
   "metadata": {},
   "source": [
    "## Challenge 1: String Scrubbing\n",
    "The paragraph given below contains special characters that are usually the \n",
    "    source of great evil that distrupts subsequent functions if left untreated.\n",
    "    Write a method to cleanse the paragraph of non-alpha numeric characters,\n",
    "    and make them all lowercase and trimmed'\n",
    "\n",
    "    paragraph = \"Grant me the ’S3R3NITY’ to accept the things I cannot change –\n",
    "                  The ’C0URAGE’ to change the things I can –\n",
    "                    And the ’W1SD0M’ to know the difference\"\n",
    "\n",
    "    expected_answer = \"grant me the s3r3nity to accept the things i cannot change the c0urage to change the things i can and the w1sd0m to know the difference\""
   ]
  },
  {
   "cell_type": "code",
   "execution_count": 54,
   "id": "900fa417-6b00-43d2-a0a9-2acff4a5341e",
   "metadata": {},
   "outputs": [
    {
     "name": "stdout",
     "output_type": "stream",
     "text": [
      "grant me the s3r3nity to accept the things i cannot change the c0urage to change the things i can and the w1sd0m to know the difference\n"
     ]
    }
   ],
   "source": [
    "paragraph = \"Grant me the ’S3R3NITY’ to accept the things I cannot change –\\\n",
    "                  The ’C0URAGE’ to change the things I can –\\\n",
    "                    And the ’W1SD0M’ to know the difference\"\n",
    "\n",
    "def sanitize_paragraph(paragraph):\n",
    "    par_clean = [let for let in paragraph if let not in '’–']\n",
    "    par_clean_join = ''.join(par_clean).lower()\n",
    "    # return clean string\n",
    "    return ' '.join(par_clean_join.split())\n",
    "\n",
    "if __name__ == '__main__':\n",
    "    print(sanitize_paragraph(paragraph))"
   ]
  },
  {
   "cell_type": "markdown",
   "id": "b2bd7a27-c7be-4252-8ff0-ab5985f098ed",
   "metadata": {},
   "source": [
    "## Challenge 2: Substring Extraction\n",
    "Given the following array of address string, extract each of their state. Your solution should accomodate all of the cases'\n",
    "\n",
    "    addresses = [\n",
    "      \"SIBU - JALAN JERRWIT TIMUR, Jalan Jerrwit Timur, Sibu, Sarawak\",\n",
    "      \"KAMPUNG KUBUR SHARIF, Bukit Rakit, Kuala Terengganu, Terengganu Darul Iman\",\n",
    "      \"Persiaran Laksamana, Puteri Harbour, 79250, Johor\",\n",
    "      \"LOT PT 6458, Kuala Berang, Hulu Terengganu, Terengganu\",\n",
    "      \"PANGSAPURI CEMPAKA,Bandar Bukit Puchong, 47100 Puchong, Selangor Darul Ehsan\",\n",
    "      \"OASIS ARA DAMANSARA, JALAN PJU 7A/1A, ARA DAMANSARA, 47301 PJ, SELANGOR, MALAYSIA\",\n",
    "    ]\n",
    "\n",
    "    expected_answer = [\n",
    "      \"SARAWAK\", \"TERENGGANU\", \"JOHOR\", \"TERENGGANU\", \"SELANGOR\", \"SELANGOR\"\n",
    "    ]"
   ]
  },
  {
   "cell_type": "code",
   "execution_count": 55,
   "id": "487078e6-17bf-4b12-bcd1-2a8ca90a4915",
   "metadata": {},
   "outputs": [],
   "source": [
    "addresses = [\n",
    "      \"SIBU - JALAN JERRWIT TIMUR, Jalan Jerrwit Timur, Sibu, Sarawak\",\n",
    "      \"KAMPUNG KUBUR SHARIF, Bukit Rakit, Kuala Terengganu, Terengganu Darul Iman\",\n",
    "      \"Persiaran Laksamana, Puteri Harbour, 79250, Johor\",\n",
    "      \"LOT PT 6458, Kuala Berang, Hulu Terengganu, Terengganu\",\n",
    "      \"PANGSAPURI CEMPAKA,Bandar Bukit Puchong, 47100 Puchong, Selangor Darul Ehsan\",\n",
    "      \"OASIS ARA DAMANSARA, JALAN PJU 7A/1A, ARA DAMANSARA, 47301 PJ, SELANGOR, MALAYSIA\",\n",
    "    ]"
   ]
  },
  {
   "cell_type": "code",
   "execution_count": 184,
   "id": "df1c0ce8-f420-4b49-966a-4707a561ee6a",
   "metadata": {},
   "outputs": [
    {
     "name": "stdout",
     "output_type": "stream",
     "text": [
      "['SARAWAK', 'TERENGGANU', 'JOHOR', 'TERENGGANU', 'SELANGOR', 'SELANGOR']\n"
     ]
    }
   ],
   "source": [
    "def get_state(address):\n",
    "    import pandas as pd\n",
    "    df = pd.Series(address)\n",
    "    state = []\n",
    "    for x in df_1:\n",
    "    # extract state\n",
    "        if x[len(x)-1].lower().split() != ['malaysia']:\n",
    "            stat = x[len(x)-1].split()\n",
    "            state.append(stat[0].upper())\n",
    "        else: \n",
    "            stat = x[len(x)-2].split()\n",
    "            state.append(stat[0].upper())\n",
    "    return state\n",
    "\n",
    "if __name__ == '__main__':\n",
    "    print(get_state(addresses))"
   ]
  },
  {
   "cell_type": "markdown",
   "id": "38924bd3-3769-4d78-ac65-68afbc838365",
   "metadata": {},
   "source": [
    "## Challenge 3: Parsing\n",
    "Given the following array of coordinate, convert it into Well-Known Text (WKT) format.\n",
    "    Wiki link on WKT and its format: https://en.wikipedia.org/wiki/Well-known_text_representation_of_geometry\n",
    "    Hint: recursion might be a friend here'\n",
    "\n",
    "    coordinate_pair = [[[[30,20], [45,40], [10,40], [30,20]]], [[[15,5], [40,10], [10,20], [5,10], [15,5]]]]\n",
    "    expected_answer = \"MULTIPOLYGON (((30 20, 45 40, 10 40, 30 20)), ((15 5, 40 10, 10 20, 5 10, 15 5)))\""
   ]
  },
  {
   "cell_type": "code",
   "execution_count": 251,
   "id": "77ec5d54-0b47-44f7-9183-1dd0e38efa01",
   "metadata": {},
   "outputs": [],
   "source": [
    "coordinate_pair = [[[[30,20], [45,40], [10,40], [30,20]]], [[[15,5], [40,10], [10,20], [5,10], [15,5]]]]\n",
    "expected_answer = \"MULTIPOLYGON (((30 20, 45 40, 10 40, 30 20)), ((15 5, 40 10, 10 20, 5 10, 15 5)))\""
   ]
  },
  {
   "cell_type": "code",
   "execution_count": 256,
   "id": "6b41c348-dc43-4a2c-a761-08e74d9a5990",
   "metadata": {},
   "outputs": [
    {
     "data": {
      "text/plain": [
       "True"
      ]
     },
     "execution_count": 256,
     "metadata": {},
     "output_type": "execute_result"
    }
   ],
   "source": [
    "# static answer\n",
    "# convert the nested list to strings and remove all symbols\n",
    "cp_str = ''.join([cor for cor in str(coordinate_pair) if cor not in '][,'])\n",
    "# convert string into list of integers\n",
    "cp = pd.Series(cp_str.split()).apply(lambda x: int(x)).tolist()\n",
    "# output coordinate into string\n",
    "output = f'MULTIPOLYGON ((({cp[0]} {cp[1]}, {cp[2]} {cp[3]}, {cp[4]} {cp[5]}, {cp[6]} {cp[7]})), (({cp[8]} {cp[9]}, {cp[10]} {cp[11]}, {cp[12]} {cp[13]}, {cp[14]} {cp[15]}, {cp[16]} {cp[17]})))'\n",
    "output == expected_answer"
   ]
  },
  {
   "cell_type": "code",
   "execution_count": 330,
   "id": "0d4f7353-0573-4600-b0be-7824e3f1b472",
   "metadata": {},
   "outputs": [
    {
     "name": "stdout",
     "output_type": "stream",
     "text": [
      "True\n"
     ]
    }
   ],
   "source": [
    "# dynamic answer\n",
    "def coord_to_wkt(coordinate_pair):\n",
    "    cp_str = ''.join([cor for cor in str(coordinate_pair) if cor not in '][,'])\n",
    "    cp = pd.Series(cp_str.split()).apply(lambda x: int(x))\n",
    "    wtk = \"MULTIPOLYGON (((\"\n",
    "    for i, x in enumerate(cp):\n",
    "        i+=1\n",
    "        if i < 8:\n",
    "            if i%2 != 0: #odd\n",
    "                wtk += f'{x}'\n",
    "            elif i < 7: wtk += f' {x}, '\n",
    "        elif i == 8 : wtk += f' {x})), (('\n",
    "        elif i >= 9 and i <= 17:\n",
    "            if i%2 != 0: #odd\n",
    "                wtk += f'{x}'\n",
    "            else: wtk += f' {x}, '\n",
    "        else: wtk += f' {x})))'\n",
    "    return wtk\n",
    "\n",
    "if __name__ == '__main__':\n",
    "    print(expected_answer == coord_to_wkt(coordinate_pair))"
   ]
  },
  {
   "cell_type": "markdown",
   "id": "5f817535-da01-4308-94f8-c8830e7075af",
   "metadata": {},
   "source": [
    "## Challenge 4: is_palindrome?\n",
    "    Palindrome is a sequence of characer that reads the same backward as it is forward, eg: \n",
    "    KAYAK when spelled in reverse is still KAYAK; MADAM, RACECAR etc.\n",
    "    Write a method that accepts a string & returns true or false depending on \n",
    "    whether the input is a palindrome or not.\n",
    "    Bonus points for the elegant recursive solution!"
   ]
  },
  {
   "cell_type": "code",
   "execution_count": 342,
   "id": "e5f21cec-e245-4623-9ae6-0c732d5b1e78",
   "metadata": {},
   "outputs": [],
   "source": [
    "pal = 'KAYAK'"
   ]
  },
  {
   "cell_type": "code",
   "execution_count": 344,
   "id": "9fe305d5-c727-4a17-910f-add97cc89025",
   "metadata": {},
   "outputs": [
    {
     "name": "stdout",
     "output_type": "stream",
     "text": [
      "True\n"
     ]
    }
   ],
   "source": [
    "def is_palindrome(word):\n",
    "    if word[::-1] == word:\n",
    "        print('True')\n",
    "    else: print('False')\n",
    "    return\n",
    "\n",
    "if __name__ == '__main__':\n",
    "    is_palindrome(pal)"
   ]
  },
  {
   "cell_type": "markdown",
   "id": "3a00500e-2f55-46a1-ad23-cddd1408e631",
   "metadata": {},
   "source": [
    "---\n",
    "<center><h1>END"
   ]
  },
  {
   "cell_type": "code",
   "execution_count": null,
   "id": "f1d522ee-a77b-414c-bdbc-4d151eb70933",
   "metadata": {},
   "outputs": [],
   "source": []
  }
 ],
 "metadata": {
  "kernelspec": {
   "display_name": "Python 3",
   "language": "python",
   "name": "python3"
  },
  "language_info": {
   "codemirror_mode": {
    "name": "ipython",
    "version": 3
   },
   "file_extension": ".py",
   "mimetype": "text/x-python",
   "name": "python",
   "nbconvert_exporter": "python",
   "pygments_lexer": "ipython3",
   "version": "3.8.8"
  }
 },
 "nbformat": 4,
 "nbformat_minor": 5
}
